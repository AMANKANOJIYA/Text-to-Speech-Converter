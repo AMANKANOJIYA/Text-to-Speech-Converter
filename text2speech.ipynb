{
  "nbformat": 4,
  "nbformat_minor": 0,
  "metadata": {
    "colab": {
      "provenance": [],
      "authorship_tag": "ABX9TyNfAkBNMtfcZ4wOXnAig0fx"
    },
    "kernelspec": {
      "name": "python3",
      "display_name": "Python 3"
    },
    "language_info": {
      "name": "python"
    }
  },
  "cells": [
    {
      "cell_type": "code",
      "execution_count": null,
      "metadata": {
        "id": "dob7T9Zl3Omu"
      },
      "outputs": [],
      "source": [
        "pip install gTTS"
      ]
    },
    {
      "cell_type": "code",
      "source": [
        "from gtts import gTTS \n",
        "from IPython.display import Audio\n",
        "\n",
        "#this code is if you want to read a string of text written \n",
        "text = gTTS('hello this is a reading for away in bliss')\n",
        "text.save('1.wav')\n",
        "sound_file = '1.wav'\n",
        "\n",
        "Audio(sound_file, autoplay=True)\n"
      ],
      "metadata": {
        "colab": {
          "base_uri": "https://localhost:8080/",
          "height": 75
        },
        "id": "OUUTMwjwQims",
        "outputId": "6ff2b5bd-e522-45a1-cac2-004d94bfeb44"
      },
      "execution_count": 42,
      "outputs": [
        {
          "output_type": "execute_result",
          "data": {
            "text/plain": [
              "<IPython.lib.display.Audio object>"
            ],
            "text/html": [
              "\n",
              "                <audio  controls=\"controls\" autoplay=\"autoplay\">\n",
              "                    <source src=\"data:audio/x-wav;base64,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\" type=\"audio/x-wav\" />\n",
              "                    Your browser does not support the audio element.\n",
              "                </audio>\n",
              "              "
            ]
          },
          "metadata": {},
          "execution_count": 42
        }
      ]
    },
    {
      "cell_type": "code",
      "source": [
        "import os \n",
        "\n",
        "#this code is if you want to read text from a txt file \n",
        "def reading_from_file():\n",
        "  file_to_read = input('please insert name of file:\\n') + '.txt'\n",
        "  f = open(file_to_read, 'r')\n",
        "  file_text = f.read()\n",
        "  f.close()\n",
        "\n",
        "  audio_created = gTTS(text=file_text, lang=\"en\", slow=False)\n",
        "  audio_created.save(\"2.wav\")\n",
        "\n",
        "  os.system(f'start {\"2.wav\"}')\n",
        "\n",
        "if __name__ == \"__main__\":\n",
        "  reading_from_file()\n"
      ],
      "metadata": {
        "colab": {
          "base_uri": "https://localhost:8080/"
        },
        "id": "ErzUTIscUuX6",
        "outputId": "38e1edb5-e5de-4c99-9be6-72e74a7afc0f"
      },
      "execution_count": 41,
      "outputs": [
        {
          "name": "stdout",
          "output_type": "stream",
          "text": [
            "please insert name of file:\n",
            "test\n"
          ]
        }
      ]
    }
  ]
}